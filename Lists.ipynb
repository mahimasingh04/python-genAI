{
 "cells": [
  {
   "cell_type": "markdown",
   "id": "f28a59e0",
   "metadata": {},
   "source": [
    "# List Comprehension"
   ]
  },
  {
   "cell_type": "code",
   "execution_count": 1,
   "id": "68089ba1",
   "metadata": {},
   "outputs": [],
   "source": [
    "lst1=[]\n",
    "def lst_square(lst):\n",
    "    for i in lst:\n",
    "        lst1.append(i*i)\n",
    "    return lst1    "
   ]
  },
  {
   "cell_type": "code",
   "execution_count": 2,
   "id": "e588c375",
   "metadata": {},
   "outputs": [
    {
     "data": {
      "text/plain": [
       "[1, 4, 9, 16, 25, 36, 49]"
      ]
     },
     "execution_count": 2,
     "metadata": {},
     "output_type": "execute_result"
    }
   ],
   "source": [
    "lst_square([1,2,3,4,5,6,7])"
   ]
  },
  {
   "cell_type": "code",
   "execution_count": 3,
   "id": "28b9a3da",
   "metadata": {},
   "outputs": [
    {
     "data": {
      "text/plain": [
       "[1156, 1849, 54756, 3025, 4489, 7921]"
      ]
     },
     "execution_count": 3,
     "metadata": {},
     "output_type": "execute_result"
    }
   ],
   "source": [
    "# list comprehension:\n",
    "lst=[34,43,234,55,67,89]\n",
    "[i*i for i in lst]"
   ]
  },
  {
   "cell_type": "code",
   "execution_count": 7,
   "id": "a620cc25",
   "metadata": {},
   "outputs": [],
   "source": [
    "lst1=[i*i for i in lst if i%2==0]"
   ]
  },
  {
   "cell_type": "code",
   "execution_count": 9,
   "id": "bc081517",
   "metadata": {},
   "outputs": [
    {
     "name": "stdout",
     "output_type": "stream",
     "text": [
      "[1156, 54756]\n"
     ]
    }
   ],
   "source": [
    "print(lst1)"
   ]
  },
  {
   "cell_type": "markdown",
   "id": "d8e0ab63",
   "metadata": {},
   "source": [
    "# Python list iterators vs iterables"
   ]
  },
  {
   "cell_type": "code",
   "execution_count": 10,
   "id": "a05efdd4",
   "metadata": {},
   "outputs": [
    {
     "name": "stdout",
     "output_type": "stream",
     "text": [
      "1\n",
      "2\n",
      "3\n",
      "4\n",
      "5\n",
      "6\n",
      "7\n"
     ]
    }
   ],
   "source": [
    "#one by one initialisation , list is an iterable and i we have to convert into iterator we have to use iter and in iterator one by one initialisationhappens and memoryis not provoded at once\n",
    "lst = [1,2,3,4,5,6,7]\n",
    "for i in lst:\n",
    "    print(i)"
   ]
  },
  {
   "cell_type": "code",
   "execution_count": 12,
   "id": "0acd5771",
   "metadata": {},
   "outputs": [],
   "source": [
    "lst1=iter(lst)"
   ]
  },
  {
   "cell_type": "code",
   "execution_count": 13,
   "id": "e0abe2fc",
   "metadata": {},
   "outputs": [
    {
     "data": {
      "text/plain": [
       "1"
      ]
     },
     "execution_count": 13,
     "metadata": {},
     "output_type": "execute_result"
    }
   ],
   "source": [
    "next(lst1)"
   ]
  },
  {
   "cell_type": "code",
   "execution_count": 14,
   "id": "df63cfc9",
   "metadata": {},
   "outputs": [
    {
     "data": {
      "text/plain": [
       "2"
      ]
     },
     "execution_count": 14,
     "metadata": {},
     "output_type": "execute_result"
    }
   ],
   "source": [
    "next(lst1)"
   ]
  },
  {
   "cell_type": "code",
   "execution_count": 20,
   "id": "931dfcc7",
   "metadata": {},
   "outputs": [
    {
     "ename": "StopIteration",
     "evalue": "",
     "output_type": "error",
     "traceback": [
      "\u001b[1;31m---------------------------------------------------------------------------\u001b[0m",
      "\u001b[1;31mStopIteration\u001b[0m                             Traceback (most recent call last)",
      "Cell \u001b[1;32mIn[20], line 1\u001b[0m\n\u001b[1;32m----> 1\u001b[0m \u001b[38;5;28mnext\u001b[39m(lst1)\n",
      "\u001b[1;31mStopIteration\u001b[0m: "
     ]
    }
   ],
   "source": [
    "next(lst1)"
   ]
  },
  {
   "cell_type": "code",
   "execution_count": 22,
   "id": "172258aa",
   "metadata": {},
   "outputs": [],
   "source": [
    "for i in lst1:\n",
    "    print(i)"
   ]
  },
  {
   "cell_type": "code",
   "execution_count": null,
   "id": "79e0dce7",
   "metadata": {},
   "outputs": [],
   "source": []
  }
 ],
 "metadata": {
  "kernelspec": {
   "display_name": "Python 3 (ipykernel)",
   "language": "python",
   "name": "python3"
  },
  "language_info": {
   "codemirror_mode": {
    "name": "ipython",
    "version": 3
   },
   "file_extension": ".py",
   "mimetype": "text/x-python",
   "name": "python",
   "nbconvert_exporter": "python",
   "pygments_lexer": "ipython3",
   "version": "3.11.3"
  }
 },
 "nbformat": 4,
 "nbformat_minor": 5
}
