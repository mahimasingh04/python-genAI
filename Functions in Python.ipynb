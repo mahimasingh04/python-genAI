{
 "cells": [
  {
   "cell_type": "code",
   "execution_count": 1,
   "id": "69942d22",
   "metadata": {},
   "outputs": [],
   "source": [
    "num = 24"
   ]
  },
  {
   "cell_type": "code",
   "execution_count": 2,
   "id": "d0e33847",
   "metadata": {},
   "outputs": [],
   "source": [
    "def even_odd(num):\n",
    "    if num%2 == 0:\n",
    "        print(\"the number is even\")\n",
    "    else :\n",
    "        print(\"the num is odd\")"
   ]
  },
  {
   "cell_type": "code",
   "execution_count": 3,
   "id": "e3651ab9",
   "metadata": {},
   "outputs": [
    {
     "name": "stdout",
     "output_type": "stream",
     "text": [
      "the num is odd\n"
     ]
    }
   ],
   "source": [
    "even_odd(45)"
   ]
  },
  {
   "cell_type": "code",
   "execution_count": 4,
   "id": "4c5b05d4",
   "metadata": {},
   "outputs": [],
   "source": [
    "def hello_world():\n",
    "    print(\"hellow welcome\")\n",
    "    "
   ]
  },
  {
   "cell_type": "code",
   "execution_count": 5,
   "id": "788b3d0f",
   "metadata": {},
   "outputs": [
    {
     "name": "stdout",
     "output_type": "stream",
     "text": [
      "hellow welcome\n"
     ]
    }
   ],
   "source": [
    "hello_world()"
   ]
  },
  {
   "cell_type": "code",
   "execution_count": 6,
   "id": "b6f1496a",
   "metadata": {},
   "outputs": [],
   "source": [
    "# return\n",
    "def hellow_world():\n",
    "    return \"hii babe\""
   ]
  },
  {
   "cell_type": "code",
   "execution_count": 7,
   "id": "b0b7c834",
   "metadata": {},
   "outputs": [],
   "source": [
    "val = hellow_world()"
   ]
  },
  {
   "cell_type": "code",
   "execution_count": 8,
   "id": "a8d21c2e",
   "metadata": {},
   "outputs": [
    {
     "name": "stdout",
     "output_type": "stream",
     "text": [
      "hii babe\n"
     ]
    }
   ],
   "source": [
    "print(val)"
   ]
  },
  {
   "cell_type": "code",
   "execution_count": 12,
   "id": "3ce1dbef",
   "metadata": {},
   "outputs": [],
   "source": [
    "def add_number(num1, num2):\n",
    "    return num1+num2"
   ]
  },
  {
   "cell_type": "code",
   "execution_count": 13,
   "id": "7d5f3c40",
   "metadata": {},
   "outputs": [],
   "source": [
    "val = add_number(24,48)"
   ]
  },
  {
   "cell_type": "code",
   "execution_count": 14,
   "id": "83430ce6",
   "metadata": {},
   "outputs": [
    {
     "data": {
      "text/plain": [
       "72"
      ]
     },
     "execution_count": 14,
     "metadata": {},
     "output_type": "execute_result"
    }
   ],
   "source": [
    "val"
   ]
  },
  {
   "cell_type": "code",
   "execution_count": 15,
   "id": "83b357ee",
   "metadata": {},
   "outputs": [],
   "source": [
    "#positional arguement : \n",
    "def hello(name, age = 39):\n",
    "    print(\"My name is {} and age is {}\".format(name,age))"
   ]
  },
  {
   "cell_type": "code",
   "execution_count": 16,
   "id": "6c21337f",
   "metadata": {},
   "outputs": [
    {
     "name": "stdout",
     "output_type": "stream",
     "text": [
      "My name is krish and age is 39\n"
     ]
    }
   ],
   "source": [
    "hello('krish')"
   ]
  },
  {
   "cell_type": "code",
   "execution_count": 17,
   "id": "8a62cd21",
   "metadata": {},
   "outputs": [],
   "source": [
    "##kwargs are keyword arguements and args are posiional arguements\n",
    "def hello(*args, **kwargs):\n",
    "    print(args)\n",
    "    print(kwargs)"
   ]
  },
  {
   "cell_type": "code",
   "execution_count": 18,
   "id": "5dd22fb4",
   "metadata": {},
   "outputs": [
    {
     "name": "stdout",
     "output_type": "stream",
     "text": [
      "('krish', 'naik')\n",
      "{'age': 29, 'dob': 1990}\n"
     ]
    }
   ],
   "source": [
    "hello(\"krish\", \"naik\", age=29,dob=1990)"
   ]
  },
  {
   "cell_type": "code",
   "execution_count": 19,
   "id": "bd14c06d",
   "metadata": {},
   "outputs": [
    {
     "name": "stdout",
     "output_type": "stream",
     "text": [
      "('krish', 'naik')\n",
      "{'age': 29, 'dob': 1990}\n"
     ]
    }
   ],
   "source": [
    "lst=['krish','naik']\n",
    "dict_args={'age' : 29, 'dob': 1990}\n",
    "\n",
    "hello(*lst,**dict_args)\n"
   ]
  },
  {
   "cell_type": "code",
   "execution_count": 20,
   "id": "1e757c5d",
   "metadata": {},
   "outputs": [],
   "source": [
    "lst=[1,2,3,4,5,6,7]"
   ]
  },
  {
   "cell_type": "code",
   "execution_count": 21,
   "id": "ec1b3ca3",
   "metadata": {},
   "outputs": [],
   "source": [
    "def evenoddsum(lst):\n",
    "    even_sum=0\n",
    "    odd_sum=0\n",
    "    for i in lst:\n",
    "        if i%2==0:\n",
    "            even_sum = even_sum+i\n",
    "        else:\n",
    "            odd_sum = odd_sum+i\n",
    "    return even_sum, odd_sum     "
   ]
  },
  {
   "cell_type": "code",
   "execution_count": 22,
   "id": "57920fee",
   "metadata": {},
   "outputs": [
    {
     "data": {
      "text/plain": [
       "(12, 16)"
      ]
     },
     "execution_count": 22,
     "metadata": {},
     "output_type": "execute_result"
    }
   ],
   "source": [
    "evenoddsum(lst)"
   ]
  },
  {
   "cell_type": "markdown",
   "id": "33d94309",
   "metadata": {},
   "source": [
    "# Lambda Function"
   ]
  },
  {
   "cell_type": "code",
   "execution_count": 23,
   "id": "799e6963",
   "metadata": {},
   "outputs": [],
   "source": [
    "def addition(a,b):\n",
    "    return a+b"
   ]
  },
  {
   "cell_type": "code",
   "execution_count": 24,
   "id": "cfe4302e",
   "metadata": {},
   "outputs": [
    {
     "data": {
      "text/plain": [
       "13"
      ]
     },
     "execution_count": 24,
     "metadata": {},
     "output_type": "execute_result"
    }
   ],
   "source": [
    "addition(9,4)"
   ]
  },
  {
   "cell_type": "code",
   "execution_count": 25,
   "id": "4b3cc32b",
   "metadata": {},
   "outputs": [],
   "source": [
    "addition= lambda a,b:a+b\n"
   ]
  },
  {
   "cell_type": "code",
   "execution_count": 26,
   "id": "41fb5b4e",
   "metadata": {},
   "outputs": [
    {
     "data": {
      "text/plain": [
       "14"
      ]
     },
     "execution_count": 26,
     "metadata": {},
     "output_type": "execute_result"
    }
   ],
   "source": [
    "addition(9,5)"
   ]
  },
  {
   "cell_type": "code",
   "execution_count": 29,
   "id": "1ba56a40",
   "metadata": {},
   "outputs": [],
   "source": [
    "even = lambda a:a%2==0"
   ]
  },
  {
   "cell_type": "code",
   "execution_count": 30,
   "id": "8b7e6065",
   "metadata": {},
   "outputs": [
    {
     "data": {
      "text/plain": [
       "True"
      ]
     },
     "execution_count": 30,
     "metadata": {},
     "output_type": "execute_result"
    }
   ],
   "source": [
    "even(34)"
   ]
  },
  {
   "cell_type": "code",
   "execution_count": 31,
   "id": "111d65c2",
   "metadata": {},
   "outputs": [],
   "source": [
    "def addition(x,y,z):\n",
    "    return x+y+z"
   ]
  },
  {
   "cell_type": "code",
   "execution_count": 34,
   "id": "2c292fd5",
   "metadata": {},
   "outputs": [
    {
     "data": {
      "text/plain": [
       "10"
      ]
     },
     "execution_count": 34,
     "metadata": {},
     "output_type": "execute_result"
    }
   ],
   "source": [
    "addition(2,3,5)"
   ]
  },
  {
   "cell_type": "markdown",
   "id": "d62dd60d",
   "metadata": {},
   "source": [
    "# Map Function"
   ]
  },
  {
   "cell_type": "code",
   "execution_count": 35,
   "id": "edb3a1e7",
   "metadata": {},
   "outputs": [],
   "source": [
    "def even_odd(num):\n",
    "    if num%2==0:\n",
    "        return \"the number {} is even\".format(num)\n",
    "    else:\n",
    "        return \"the num {} is odd\".format(num)"
   ]
  },
  {
   "cell_type": "code",
   "execution_count": 36,
   "id": "7fd51833",
   "metadata": {},
   "outputs": [
    {
     "data": {
      "text/plain": [
       "'the number 24 is even'"
      ]
     },
     "execution_count": 36,
     "metadata": {},
     "output_type": "execute_result"
    }
   ],
   "source": [
    "even_odd(24)"
   ]
  },
  {
   "cell_type": "code",
   "execution_count": 38,
   "id": "7cd8d86f",
   "metadata": {},
   "outputs": [],
   "source": [
    "lst=[1,2,3,4,5,6,7,8,4,44,566]"
   ]
  },
  {
   "cell_type": "code",
   "execution_count": 39,
   "id": "cd6138fa",
   "metadata": {},
   "outputs": [
    {
     "data": {
      "text/plain": [
       "<map at 0x228bed33bb0>"
      ]
     },
     "execution_count": 39,
     "metadata": {},
     "output_type": "execute_result"
    }
   ],
   "source": [
    "map(even_odd,lst)"
   ]
  },
  {
   "cell_type": "code",
   "execution_count": 40,
   "id": "bda60d73",
   "metadata": {},
   "outputs": [
    {
     "data": {
      "text/plain": [
       "['the num 1 is odd',\n",
       " 'the number 2 is even',\n",
       " 'the num 3 is odd',\n",
       " 'the number 4 is even',\n",
       " 'the num 5 is odd',\n",
       " 'the number 6 is even',\n",
       " 'the num 7 is odd',\n",
       " 'the number 8 is even',\n",
       " 'the number 4 is even',\n",
       " 'the number 44 is even',\n",
       " 'the number 566 is even']"
      ]
     },
     "execution_count": 40,
     "metadata": {},
     "output_type": "execute_result"
    }
   ],
   "source": [
    "list(map(even_odd,lst))"
   ]
  },
  {
   "cell_type": "markdown",
   "id": "091c7fc5",
   "metadata": {},
   "source": [
    "# Filter function"
   ]
  },
  {
   "cell_type": "code",
   "execution_count": 45,
   "id": "5de9ff33",
   "metadata": {},
   "outputs": [],
   "source": [
    "def even(num):\n",
    "    if num%2==0:\n",
    "        return True"
   ]
  },
  {
   "cell_type": "code",
   "execution_count": 46,
   "id": "30ed9785",
   "metadata": {},
   "outputs": [],
   "source": [
    "lst = [1,2,3,4,6,78,65,45]"
   ]
  },
  {
   "cell_type": "code",
   "execution_count": 47,
   "id": "5f55c86d",
   "metadata": {},
   "outputs": [
    {
     "data": {
      "text/plain": [
       "[2, 4, 6, 78]"
      ]
     },
     "execution_count": 47,
     "metadata": {},
     "output_type": "execute_result"
    }
   ],
   "source": [
    "list(filter(even,lst))"
   ]
  },
  {
   "cell_type": "code",
   "execution_count": 48,
   "id": "d5a2b102",
   "metadata": {},
   "outputs": [
    {
     "data": {
      "text/plain": [
       "[2, 4, 6, 78]"
      ]
     },
     "execution_count": 48,
     "metadata": {},
     "output_type": "execute_result"
    }
   ],
   "source": [
    "list(filter(lambda num:num%2==0,lst))"
   ]
  },
  {
   "cell_type": "code",
   "execution_count": 50,
   "id": "938f4ce6",
   "metadata": {},
   "outputs": [
    {
     "data": {
      "text/plain": [
       "[False, True, False, True, True, True, False, False]"
      ]
     },
     "execution_count": 50,
     "metadata": {},
     "output_type": "execute_result"
    }
   ],
   "source": [
    "list(map(lambda num:num%2==0,lst))"
   ]
  },
  {
   "cell_type": "code",
   "execution_count": null,
   "id": "2f489b06",
   "metadata": {},
   "outputs": [],
   "source": []
  }
 ],
 "metadata": {
  "kernelspec": {
   "display_name": "Python 3 (ipykernel)",
   "language": "python",
   "name": "python3"
  },
  "language_info": {
   "codemirror_mode": {
    "name": "ipython",
    "version": 3
   },
   "file_extension": ".py",
   "mimetype": "text/x-python",
   "name": "python",
   "nbconvert_exporter": "python",
   "pygments_lexer": "ipython3",
   "version": "3.11.3"
  }
 },
 "nbformat": 4,
 "nbformat_minor": 5
}
