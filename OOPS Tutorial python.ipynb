{
 "cells": [
  {
   "cell_type": "code",
   "execution_count": 7,
   "id": "f1928f99",
   "metadata": {},
   "outputs": [],
   "source": [
    "class Car:\n",
    "    def __init__(self,windows,doors,enginetype):\n",
    "        self.windows=windows\n",
    "        self.doors=doors\n",
    "        self.enginetype=enginetype\n",
    "    def self_driving(self):\n",
    "        return \"this is a {} car\".format(self.enginetype)"
   ]
  },
  {
   "cell_type": "code",
   "execution_count": 17,
   "id": "8a58f528",
   "metadata": {},
   "outputs": [],
   "source": [
    "car1=Car(4,3,'petrol')"
   ]
  },
  {
   "cell_type": "code",
   "execution_count": 3,
   "id": "7556948f",
   "metadata": {},
   "outputs": [],
   "source": [
    "car1.windows=5"
   ]
  },
  {
   "cell_type": "code",
   "execution_count": 4,
   "id": "966af23e",
   "metadata": {},
   "outputs": [],
   "source": [
    "car1.doors=4"
   ]
  },
  {
   "cell_type": "code",
   "execution_count": 9,
   "id": "2bb9453d",
   "metadata": {},
   "outputs": [],
   "source": [
    "car2=Car(3,4,'diesel')"
   ]
  },
  {
   "cell_type": "code",
   "execution_count": 10,
   "id": "6d13ac8b",
   "metadata": {},
   "outputs": [
    {
     "name": "stdout",
     "output_type": "stream",
     "text": [
      "4\n"
     ]
    }
   ],
   "source": [
    "print(car1.windows)"
   ]
  },
  {
   "cell_type": "code",
   "execution_count": 11,
   "id": "5a0b5efd",
   "metadata": {},
   "outputs": [
    {
     "name": "stdout",
     "output_type": "stream",
     "text": [
      "diesel\n"
     ]
    }
   ],
   "source": [
    "print(car2.enginetype)"
   ]
  },
  {
   "cell_type": "code",
   "execution_count": 18,
   "id": "6d38a145",
   "metadata": {},
   "outputs": [
    {
     "data": {
      "text/plain": [
       "'this is a petrol car'"
      ]
     },
     "execution_count": 18,
     "metadata": {},
     "output_type": "execute_result"
    }
   ],
   "source": [
    "car1.self_driving()"
   ]
  },
  {
   "cell_type": "markdown",
   "id": "7573238a",
   "metadata": {},
   "source": [
    "# Python Exception Handling"
   ]
  },
  {
   "cell_type": "code",
   "execution_count": 40,
   "id": "7f9d2f9b",
   "metadata": {},
   "outputs": [
    {
     "name": "stdout",
     "output_type": "stream",
     "text": [
      "enter the number 1 :34\n",
      "enter the number 2 :5\n",
      "6.8\n",
      "170\n",
      "39\n"
     ]
    }
   ],
   "source": [
    "try:\n",
    "    a=int(input(\"enter the number 1 :\"))\n",
    "    b=int(input(\"enter the number 2 :\"))\n",
    "    c= a/b\n",
    "    d=a*b\n",
    "    e=a+b\n",
    "except NameError as ex1:\n",
    "    print(\"the user have not defined the variable\")\n",
    "except TypeError:\n",
    "        print(\"Try to make the datatype similar\")\n",
    "except ZeroDivisionError:\n",
    "    print(\"please dont give 0 as the number\")\n",
    "except Exception as ex:\n",
    "    print(ex)\n",
    "else:\n",
    "    print(c)\n",
    "    print(d)\n",
    "    print(e)"
   ]
  },
  {
   "cell_type": "code",
   "execution_count": null,
   "id": "98f0a915",
   "metadata": {},
   "outputs": [],
   "source": [
    "##try else and finally\n",
    "try:\n",
    "    a=int(input(\"enter the number 1 :\"))\n",
    "    b=int(input(\"enter the number 2 :\"))\n",
    "    c= a/b\n",
    "    d=a*b\n",
    "    e=a+b\n",
    "except NameError as ex1:\n",
    "    print(\"the user have not defined the variable\")\n",
    "except TypeError:\n",
    "        print(\"Try to make the datatype similar\")\n",
    "except ZeroDivisionError:\n",
    "    print(\"please dont give 0 as the number\")\n",
    "except Exception as ex:\n",
    "    print(ex)\n",
    "else:\n",
    "    print(c)\n",
    "    print(d)\n",
    "    print(e)\n",
    "finally:\n",
    "    print(\"the execution is done\") "
   ]
  },
  {
   "cell_type": "markdown",
   "id": "63a0c3f8",
   "metadata": {},
   "source": [
    "# Custom Exception"
   ]
  },
  {
   "cell_type": "code",
   "execution_count": null,
   "id": "767a1d44",
   "metadata": {},
   "outputs": [],
   "source": [
    "class Error(Exception):\n",
    "    pass\n",
    "class dobException(Error):\n",
    "    pass\n"
   ]
  },
  {
   "cell_type": "code",
   "execution_count": null,
   "id": "bcc0bf54",
   "metadata": {},
   "outputs": [],
   "source": [
    "year=int(input(\"Enter the year of birth\"))\n",
    "age = 2021-year\n",
    "try:\n",
    "    if age<=30 & age>20:\n",
    "        print(\"the age is valid.You can apply for the exams\")\n",
    "    else:\n",
    "        raise dobException\n",
    "except dobException:\n",
    "    print(\"the year age is not within the range.You cannot apply for this exam\")"
   ]
  },
  {
   "cell_type": "markdown",
   "id": "67d234b2",
   "metadata": {},
   "source": [
    "# Python OOPS Inheritance"
   ]
  },
  {
   "cell_type": "code",
   "execution_count": 4,
   "id": "65cfc708",
   "metadata": {},
   "outputs": [],
   "source": [
    "car=Car(4,5,\"diesel\")"
   ]
  },
  {
   "cell_type": "code",
   "execution_count": 9,
   "id": "41e5eac4",
   "metadata": {},
   "outputs": [],
   "source": [
    "class audi(Car):\n",
    "    def __init__(self,windows,doors,enginetype,enableai):\n",
    "        super().__init__(windows,doors,enginetype)\n",
    "        self.enableai=enableai\n",
    "    def selfdriving(self):\n",
    "        print(\"audi supports self driving\")"
   ]
  },
  {
   "cell_type": "code",
   "execution_count": 10,
   "id": "ab622fce",
   "metadata": {},
   "outputs": [],
   "source": [
    "audiQ7=audi(5,5,\"diesel\",True)"
   ]
  },
  {
   "cell_type": "code",
   "execution_count": 11,
   "id": "bb541186",
   "metadata": {},
   "outputs": [
    {
     "data": {
      "text/plain": [
       "['__class__',\n",
       " '__delattr__',\n",
       " '__dict__',\n",
       " '__dir__',\n",
       " '__doc__',\n",
       " '__eq__',\n",
       " '__format__',\n",
       " '__ge__',\n",
       " '__getattribute__',\n",
       " '__getstate__',\n",
       " '__gt__',\n",
       " '__hash__',\n",
       " '__init__',\n",
       " '__init_subclass__',\n",
       " '__le__',\n",
       " '__lt__',\n",
       " '__module__',\n",
       " '__ne__',\n",
       " '__new__',\n",
       " '__reduce__',\n",
       " '__reduce_ex__',\n",
       " '__repr__',\n",
       " '__setattr__',\n",
       " '__sizeof__',\n",
       " '__str__',\n",
       " '__subclasshook__',\n",
       " '__weakref__',\n",
       " 'doors',\n",
       " 'enableai',\n",
       " 'enginetype',\n",
       " 'self_driving',\n",
       " 'selfdriving',\n",
       " 'windows']"
      ]
     },
     "execution_count": 11,
     "metadata": {},
     "output_type": "execute_result"
    }
   ],
   "source": [
    "dir(audiQ7)"
   ]
  },
  {
   "cell_type": "code",
   "execution_count": 12,
   "id": "20aee91e",
   "metadata": {},
   "outputs": [
    {
     "data": {
      "text/plain": [
       "True"
      ]
     },
     "execution_count": 12,
     "metadata": {},
     "output_type": "execute_result"
    }
   ],
   "source": [
    "audiQ7.enableai"
   ]
  },
  {
   "cell_type": "markdown",
   "id": "2d307802",
   "metadata": {},
   "source": [
    "# Python OOps-Magic Methods in Classes"
   ]
  },
  {
   "cell_type": "code",
   "execution_count": 27,
   "id": "8c4d20bc",
   "metadata": {},
   "outputs": [],
   "source": [
    "class Car:\n",
    "    def __new__(self,windows,doors,enginetype):\n",
    "        print (\"the object has started geting initialised\")\n",
    "    def __init__(self,windows,doors,enginetype):\n",
    "        self.windows=windows\n",
    "        self.doors=doors\n",
    "        self.enginetype=enginetype\n",
    "    def __str__(self):\n",
    "        return \"The object has been initialised\"\n",
    "    def __sizeof__(self):\n",
    "        return \"the displays the size of the object\"\n",
    "    def drive(self):\n",
    "        print(\"you can drive\")"
   ]
  },
  {
   "cell_type": "code",
   "execution_count": 28,
   "id": "54d48d74",
   "metadata": {},
   "outputs": [
    {
     "name": "stdout",
     "output_type": "stream",
     "text": [
      "the object has started geting initialised\n"
     ]
    }
   ],
   "source": [
    "c=Car(4,5,\"petrol\")"
   ]
  },
  {
   "cell_type": "code",
   "execution_count": 15,
   "id": "5cf0ee20",
   "metadata": {},
   "outputs": [
    {
     "data": {
      "text/plain": [
       "['__class__',\n",
       " '__delattr__',\n",
       " '__dict__',\n",
       " '__dir__',\n",
       " '__doc__',\n",
       " '__eq__',\n",
       " '__format__',\n",
       " '__ge__',\n",
       " '__getattribute__',\n",
       " '__getstate__',\n",
       " '__gt__',\n",
       " '__hash__',\n",
       " '__init__',\n",
       " '__init_subclass__',\n",
       " '__le__',\n",
       " '__lt__',\n",
       " '__module__',\n",
       " '__ne__',\n",
       " '__new__',\n",
       " '__reduce__',\n",
       " '__reduce_ex__',\n",
       " '__repr__',\n",
       " '__setattr__',\n",
       " '__sizeof__',\n",
       " '__str__',\n",
       " '__subclasshook__',\n",
       " '__weakref__',\n",
       " 'doors',\n",
       " 'drive',\n",
       " 'enginetype',\n",
       " 'windows']"
      ]
     },
     "execution_count": 15,
     "metadata": {},
     "output_type": "execute_result"
    }
   ],
   "source": [
    "dir(c) #magic methods"
   ]
  },
  {
   "cell_type": "code",
   "execution_count": 29,
   "id": "a06cf83d",
   "metadata": {},
   "outputs": [
    {
     "data": {
      "text/plain": [
       "16"
      ]
     },
     "execution_count": 29,
     "metadata": {},
     "output_type": "execute_result"
    }
   ],
   "source": [
    "c.__sizeof__()"
   ]
  },
  {
   "cell_type": "code",
   "execution_count": 30,
   "id": "3eb80c59",
   "metadata": {},
   "outputs": [
    {
     "name": "stdout",
     "output_type": "stream",
     "text": [
      "None\n"
     ]
    }
   ],
   "source": [
    "print(c) #magic method __str__ jo memory location batata h but we can override it "
   ]
  },
  {
   "cell_type": "markdown",
   "id": "e2a17f72",
   "metadata": {},
   "source": [
    "# Python Assert"
   ]
  },
  {
   "cell_type": "code",
   "execution_count": 35,
   "id": "3b52997c",
   "metadata": {},
   "outputs": [
    {
     "ename": "AssertionError",
     "evalue": "",
     "output_type": "error",
     "traceback": [
      "\u001b[1;31m---------------------------------------------------------------------------\u001b[0m",
      "\u001b[1;31mAssertionError\u001b[0m                            Traceback (most recent call last)",
      "Cell \u001b[1;32mIn[35], line 2\u001b[0m\n\u001b[0;32m      1\u001b[0m num \u001b[38;5;241m=\u001b[39m \u001b[38;5;241m10\u001b[39m\n\u001b[1;32m----> 2\u001b[0m \u001b[38;5;28;01massert\u001b[39;00m num\u001b[38;5;241m>\u001b[39m\u001b[38;5;241m10\u001b[39m\n",
      "\u001b[1;31mAssertionError\u001b[0m: "
     ]
    }
   ],
   "source": [
    "num = 10\n",
    "assert num>10 #kind of exception handling "
   ]
  },
  {
   "cell_type": "code",
   "execution_count": 37,
   "id": "6a619ca1",
   "metadata": {},
   "outputs": [
    {
     "name": "stdout",
     "output_type": "stream",
     "text": [
      "Enter the number5\n",
      "Please enter even number\n"
     ]
    }
   ],
   "source": [
    "try:\n",
    "    num = int(input(\"Enter the number\"))\n",
    "    assert num%2==0\n",
    "    print(\"even number it is\")\n",
    "except AssertionError:\n",
    "    print(\"Please enter even number\")\n",
    "    "
   ]
  },
  {
   "cell_type": "code",
   "execution_count": 38,
   "id": "7c0c7094",
   "metadata": {},
   "outputs": [
    {
     "name": "stdout",
     "output_type": "stream",
     "text": [
      "1\n",
      "2\n",
      "3\n",
      "4\n"
     ]
    }
   ],
   "source": [
    "lst =[1,2,3,4]\n",
    "for i in lst:\n",
    "    print(i)"
   ]
  },
  {
   "cell_type": "code",
   "execution_count": 40,
   "id": "4e091619",
   "metadata": {},
   "outputs": [],
   "source": [
    "iterable=iter(lst)"
   ]
  },
  {
   "cell_type": "code",
   "execution_count": 43,
   "id": "34a5f367",
   "metadata": {},
   "outputs": [
    {
     "ename": "StopIteration",
     "evalue": "",
     "output_type": "error",
     "traceback": [
      "\u001b[1;31m---------------------------------------------------------------------------\u001b[0m",
      "\u001b[1;31mStopIteration\u001b[0m                             Traceback (most recent call last)",
      "Cell \u001b[1;32mIn[43], line 1\u001b[0m\n\u001b[1;32m----> 1\u001b[0m \u001b[38;5;28mnext\u001b[39m(iterable)\n",
      "\u001b[1;31mStopIteration\u001b[0m: "
     ]
    }
   ],
   "source": [
    "next(iterable)"
   ]
  },
  {
   "cell_type": "code",
   "execution_count": 48,
   "id": "2bf56e3e",
   "metadata": {},
   "outputs": [],
   "source": [
    "#iterator with the help of generator\n",
    "def square(n):\n",
    "    for i in range(n):\n",
    "        yield i**2 #use yeild to mke it iterator "
   ]
  },
  {
   "cell_type": "code",
   "execution_count": 49,
   "id": "42c180d6",
   "metadata": {},
   "outputs": [
    {
     "data": {
      "text/plain": [
       "<generator object square at 0x0000020F56A2BAC0>"
      ]
     },
     "execution_count": 49,
     "metadata": {},
     "output_type": "execute_result"
    }
   ],
   "source": [
    "square(4)"
   ]
  },
  {
   "cell_type": "code",
   "execution_count": 50,
   "id": "3b94176c",
   "metadata": {},
   "outputs": [
    {
     "data": {
      "text/plain": [
       "<generator object square at 0x0000020F56A2B920>"
      ]
     },
     "execution_count": 50,
     "metadata": {},
     "output_type": "execute_result"
    }
   ],
   "source": [
    "a=square(3)\n",
    "a"
   ]
  },
  {
   "cell_type": "code",
   "execution_count": 51,
   "id": "687276be",
   "metadata": {},
   "outputs": [
    {
     "data": {
      "text/plain": [
       "0"
      ]
     },
     "execution_count": 51,
     "metadata": {},
     "output_type": "execute_result"
    }
   ],
   "source": [
    "next(a)"
   ]
  },
  {
   "cell_type": "code",
   "execution_count": 52,
   "id": "63548711",
   "metadata": {},
   "outputs": [
    {
     "data": {
      "text/plain": [
       "1"
      ]
     },
     "execution_count": 52,
     "metadata": {},
     "output_type": "execute_result"
    }
   ],
   "source": [
    "next(a)"
   ]
  },
  {
   "cell_type": "markdown",
   "id": "a9a4ed5c",
   "metadata": {},
   "source": [
    "# difference\n",
    "#3 to create iterator we use iter()and to generator we use function along with yeild "
   ]
  },
  {
   "cell_type": "code",
   "execution_count": null,
   "id": "77367628",
   "metadata": {},
   "outputs": [],
   "source": []
  }
 ],
 "metadata": {
  "kernelspec": {
   "display_name": "Python 3 (ipykernel)",
   "language": "python",
   "name": "python3"
  },
  "language_info": {
   "codemirror_mode": {
    "name": "ipython",
    "version": 3
   },
   "file_extension": ".py",
   "mimetype": "text/x-python",
   "name": "python",
   "nbconvert_exporter": "python",
   "pygments_lexer": "ipython3",
   "version": "3.11.3"
  }
 },
 "nbformat": 4,
 "nbformat_minor": 5
}
