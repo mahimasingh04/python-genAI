{
 "cells": [
  {
   "cell_type": "code",
   "execution_count": 1,
   "id": "6a4887ec",
   "metadata": {},
   "outputs": [
    {
     "name": "stdout",
     "output_type": "stream",
     "text": [
      "hello everyone\n"
     ]
    }
   ],
   "source": [
    "print(\"hello everyone\")"
   ]
  },
  {
   "cell_type": "code",
   "execution_count": 2,
   "id": "aff25f23",
   "metadata": {},
   "outputs": [],
   "source": [
    "def greeting(name):\n",
    "    return \"hello {}. welcome to the community\".format(name)"
   ]
  },
  {
   "cell_type": "code",
   "execution_count": 3,
   "id": "9e48b937",
   "metadata": {},
   "outputs": [
    {
     "data": {
      "text/plain": [
       "'hello Mahima. welcome to the community'"
      ]
     },
     "execution_count": 3,
     "metadata": {},
     "output_type": "execute_result"
    }
   ],
   "source": [
    "greeting(\"Mahima\")"
   ]
  },
  {
   "cell_type": "code",
   "execution_count": 4,
   "id": "a5204310",
   "metadata": {},
   "outputs": [],
   "source": [
    "def welcome_email(name, age):\n",
    "    return \"welcome {}.Your age is {}\".format(name,age)\n",
    "    "
   ]
  },
  {
   "cell_type": "code",
   "execution_count": 6,
   "id": "d31f4030",
   "metadata": {},
   "outputs": [
    {
     "data": {
      "text/plain": [
       "'welcome raunit.Your age is 22'"
      ]
     },
     "execution_count": 6,
     "metadata": {},
     "output_type": "execute_result"
    }
   ],
   "source": [
    "welcome_email('raunit', 22)"
   ]
  },
  {
   "cell_type": "code",
   "execution_count": 7,
   "id": "8b8bfbcf",
   "metadata": {},
   "outputs": [],
   "source": [
    "#the ordering wont matter if we provide variables \n",
    "def welcome_email(name, age):\n",
    "    return \"welcome {name}.Your age is {age}\".format(age=age, name=name)"
   ]
  },
  {
   "cell_type": "code",
   "execution_count": 8,
   "id": "3306b83c",
   "metadata": {},
   "outputs": [
    {
     "data": {
      "text/plain": [
       "'welcome krish.Your age is 30'"
      ]
     },
     "execution_count": 8,
     "metadata": {},
     "output_type": "execute_result"
    }
   ],
   "source": [
    "welcome_email('krish', 30)"
   ]
  },
  {
   "cell_type": "code",
   "execution_count": null,
   "id": "1419ddca",
   "metadata": {},
   "outputs": [],
   "source": []
  }
 ],
 "metadata": {
  "kernelspec": {
   "display_name": "Python 3 (ipykernel)",
   "language": "python",
   "name": "python3"
  },
  "language_info": {
   "codemirror_mode": {
    "name": "ipython",
    "version": 3
   },
   "file_extension": ".py",
   "mimetype": "text/x-python",
   "name": "python",
   "nbconvert_exporter": "python",
   "pygments_lexer": "ipython3",
   "version": "3.11.3"
  }
 },
 "nbformat": 4,
 "nbformat_minor": 5
}
