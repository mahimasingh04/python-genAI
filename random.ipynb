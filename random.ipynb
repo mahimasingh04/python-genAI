{
 "cells": [
  {
   "cell_type": "code",
   "execution_count": 2,
   "id": "eadf8fb8",
   "metadata": {},
   "outputs": [
    {
     "name": "stdout",
     "output_type": "stream",
     "text": [
      "[0.60940687 0.36756757 0.05264117 0.52050051 0.46035811 0.55796216\n",
      " 0.88980304]\n"
     ]
    }
   ],
   "source": [
    "import numpy as np\n",
    "\n",
    "var = np.random.rand(7)\n",
    "print(var)\n"
   ]
  },
  {
   "cell_type": "code",
   "execution_count": 3,
   "id": "99d4026c",
   "metadata": {},
   "outputs": [
    {
     "name": "stdout",
     "output_type": "stream",
     "text": [
      "[[0.64639149 0.09148385 0.66236566 0.57097669 0.25471476]\n",
      " [0.87096397 0.30087982 0.807707   0.2102907  0.640236  ]]\n"
     ]
    }
   ],
   "source": [
    "import numpy as np\n",
    "\n",
    "var1 = np.random.rand(2,5)\n",
    "print(var1)"
   ]
  },
  {
   "cell_type": "code",
   "execution_count": 4,
   "id": "2ee46b90",
   "metadata": {},
   "outputs": [
    {
     "name": "stdout",
     "output_type": "stream",
     "text": [
      "[[-0.38080052 -1.20232204]\n",
      " [-1.25188823 -0.15973715]]\n"
     ]
    }
   ],
   "source": [
    "import numpy as np\n",
    "var2 = np.random.randn(2,2)\n",
    "print(var2)"
   ]
  },
  {
   "cell_type": "code",
   "execution_count": 8,
   "id": "f1c14a67",
   "metadata": {},
   "outputs": [
    {
     "name": "stdout",
     "output_type": "stream",
     "text": [
      "[19  7 13  7]\n"
     ]
    }
   ],
   "source": [
    "import numpy as np\n",
    "#np.random.randint(min,max,total val)\n",
    "var3 = np.random.randint(5,20,4)\n",
    "print(var3)"
   ]
  },
  {
   "cell_type": "code",
   "execution_count": null,
   "id": "03e2012d",
   "metadata": {},
   "outputs": [],
   "source": []
  }
 ],
 "metadata": {
  "kernelspec": {
   "display_name": "Python 3 (ipykernel)",
   "language": "python",
   "name": "python3"
  },
  "language_info": {
   "codemirror_mode": {
    "name": "ipython",
    "version": 3
   },
   "file_extension": ".py",
   "mimetype": "text/x-python",
   "name": "python",
   "nbconvert_exporter": "python",
   "pygments_lexer": "ipython3",
   "version": "3.11.3"
  }
 },
 "nbformat": 4,
 "nbformat_minor": 5
}
