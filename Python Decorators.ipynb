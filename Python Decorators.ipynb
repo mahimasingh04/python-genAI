{
 "cells": [
  {
   "cell_type": "code",
   "execution_count": 1,
   "id": "9b0eb930",
   "metadata": {},
   "outputs": [],
   "source": [
    "def welcome():\n",
    "    return (\"welcome to krish naik yotube channel \")"
   ]
  },
  {
   "cell_type": "code",
   "execution_count": 2,
   "id": "7b62ba2a",
   "metadata": {},
   "outputs": [
    {
     "data": {
      "text/plain": [
       "'welcome to krish naik yotube channel '"
      ]
     },
     "execution_count": 2,
     "metadata": {},
     "output_type": "execute_result"
    }
   ],
   "source": [
    "wel= welcome()\n",
    "wel"
   ]
  },
  {
   "cell_type": "code",
   "execution_count": 3,
   "id": "63421986",
   "metadata": {},
   "outputs": [],
   "source": [
    "del welcome"
   ]
  },
  {
   "cell_type": "code",
   "execution_count": 10,
   "id": "056efded",
   "metadata": {},
   "outputs": [],
   "source": [
    "##closures\n",
    "def main_welcome():\n",
    "    msg=\"hello everyone\"\n",
    "    def sub_welcome_class():\n",
    "        print(\"welcome to krish naik youtube channel\")\n",
    "        print(msg)#can we access it? yes inner function can access it\n",
    "        print(\"please subscribe krish channel\")\n",
    "    return sub_welcome_class()   "
   ]
  },
  {
   "cell_type": "code",
   "execution_count": 11,
   "id": "6a60cbed",
   "metadata": {},
   "outputs": [
    {
     "name": "stdout",
     "output_type": "stream",
     "text": [
      "welcome to krish naik youtube channel\n",
      "hello everyone\n",
      "please subscribe krish channel\n"
     ]
    }
   ],
   "source": [
    "main_welcome()"
   ]
  },
  {
   "cell_type": "code",
   "execution_count": 24,
   "id": "b91694bf",
   "metadata": {},
   "outputs": [],
   "source": [
    "def main_welcome(func):\n",
    "    \n",
    "    def sub_welcome_class():\n",
    "        print (\"welcome to krish naik youtube channel\")\n",
    "        func()\n",
    "        print (\"please subscribe krish channel\")    \n",
    "    return sub_welcome_class()     "
   ]
  },
  {
   "cell_type": "code",
   "execution_count": 25,
   "id": "12fd4ccd",
   "metadata": {},
   "outputs": [
    {
     "name": "stdout",
     "output_type": "stream",
     "text": [
      "welcome to krish naik youtube channel\n",
      "\n",
      "please subscribe krish channel\n"
     ]
    }
   ],
   "source": [
    "main_welcome(print)"
   ]
  },
  {
   "cell_type": "code",
   "execution_count": 26,
   "id": "d8f8a732",
   "metadata": {},
   "outputs": [],
   "source": [
    "def channel_name():\n",
    "    print(\"this is  krish youtube channel\")"
   ]
  },
  {
   "cell_type": "code",
   "execution_count": 27,
   "id": "0ca5980d",
   "metadata": {},
   "outputs": [
    {
     "name": "stdout",
     "output_type": "stream",
     "text": [
      "welcome to krish naik youtube channel\n",
      "this is  krish youtube channel\n",
      "please subscribe krish channel\n"
     ]
    }
   ],
   "source": [
    "main_welcome(channel_name)"
   ]
  },
  {
   "cell_type": "code",
   "execution_count": null,
   "id": "08a7aaa2",
   "metadata": {},
   "outputs": [],
   "source": []
  }
 ],
 "metadata": {
  "kernelspec": {
   "display_name": "Python 3 (ipykernel)",
   "language": "python",
   "name": "python3"
  },
  "language_info": {
   "codemirror_mode": {
    "name": "ipython",
    "version": 3
   },
   "file_extension": ".py",
   "mimetype": "text/x-python",
   "name": "python",
   "nbconvert_exporter": "python",
   "pygments_lexer": "ipython3",
   "version": "3.11.3"
  }
 },
 "nbformat": 4,
 "nbformat_minor": 5
}
