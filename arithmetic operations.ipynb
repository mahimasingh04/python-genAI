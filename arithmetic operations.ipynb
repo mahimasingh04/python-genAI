{
 "cells": [
  {
   "cell_type": "markdown",
   "id": "66ea6ea0",
   "metadata": {},
   "source": [
    "# ARITHMETIC"
   ]
  },
  {
   "cell_type": "code",
   "execution_count": 1,
   "id": "e27b6cdc",
   "metadata": {},
   "outputs": [
    {
     "name": "stdout",
     "output_type": "stream",
     "text": [
      "[4 5 6 7]\n"
     ]
    }
   ],
   "source": [
    "import numpy as np\n",
    "var = np.array([1,2,3,4])\n",
    "\n",
    "varadd = var+3\n",
    "print(varadd)"
   ]
  },
  {
   "cell_type": "code",
   "execution_count": 3,
   "id": "07ef5546",
   "metadata": {},
   "outputs": [
    {
     "name": "stdout",
     "output_type": "stream",
     "text": [
      "[ 3  6 13  9]\n"
     ]
    }
   ],
   "source": [
    "import numpy as np\n",
    "var1 = np.array([1,3,5,9])\n",
    "var2 = np.array([2,3,8,0])\n",
    "varadd = var1+var2\n",
    "print(varadd)"
   ]
  },
  {
   "cell_type": "code",
   "execution_count": 4,
   "id": "9b555a79",
   "metadata": {},
   "outputs": [
    {
     "name": "stdout",
     "output_type": "stream",
     "text": [
      "[10 15 25 40]\n"
     ]
    }
   ],
   "source": [
    "import numpy as np\n",
    "var1 = np.array([2,3,5,8])\n",
    "varmul = var1*5\n",
    "print(varmul)\n"
   ]
  },
  {
   "cell_type": "code",
   "execution_count": 5,
   "id": "8b129045",
   "metadata": {},
   "outputs": [
    {
     "name": "stdout",
     "output_type": "stream",
     "text": [
      "[2 3 0 3 3]\n"
     ]
    }
   ],
   "source": [
    "import numpy as np\n",
    "var5 = np.array([2,87,4,3,67])\n",
    "varmod = var5 % 4\n",
    "print(varmod)"
   ]
  },
  {
   "cell_type": "code",
   "execution_count": 6,
   "id": "6479c168",
   "metadata": {},
   "outputs": [
    {
     "name": "stdout",
     "output_type": "stream",
     "text": [
      "[0 0 0 0]\n"
     ]
    }
   ],
   "source": [
    "import numpy as np\n",
    "var1 = ([5,3,7,9])\n",
    "varrec = np.reciprocal(var1)\n",
    "print(varrec)"
   ]
  },
  {
   "cell_type": "markdown",
   "id": "6abf18cc",
   "metadata": {},
   "source": [
    "# 2D ARRAY"
   ]
  },
  {
   "cell_type": "code",
   "execution_count": null,
   "id": "8b5fa32f",
   "metadata": {},
   "outputs": [],
   "source": []
  }
 ],
 "metadata": {
  "kernelspec": {
   "display_name": "Python 3 (ipykernel)",
   "language": "python",
   "name": "python3"
  },
  "language_info": {
   "codemirror_mode": {
    "name": "ipython",
    "version": 3
   },
   "file_extension": ".py",
   "mimetype": "text/x-python",
   "name": "python",
   "nbconvert_exporter": "python",
   "pygments_lexer": "ipython3",
   "version": "3.11.3"
  }
 },
 "nbformat": 4,
 "nbformat_minor": 5
}
