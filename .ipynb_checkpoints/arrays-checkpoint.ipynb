{
 "cells": [
  {
   "cell_type": "code",
   "execution_count": 1,
   "id": "5e7f7d49",
   "metadata": {},
   "outputs": [
    {
     "name": "stdout",
     "output_type": "stream",
     "text": [
      "[1 2 3 4]\n"
     ]
    }
   ],
   "source": [
    "import numpy as np\n",
    "x= np.array([1,2,3,4])\n",
    "print(x)"
   ]
  },
  {
   "cell_type": "code",
   "execution_count": 2,
   "id": "bbabc6bd",
   "metadata": {},
   "outputs": [
    {
     "name": "stdout",
     "output_type": "stream",
     "text": [
      "<class 'numpy.ndarray'>\n"
     ]
    }
   ],
   "source": [
    "import numpy as np\n",
    "x=[1,2,3,4]\n",
    "y=np.array(x)\n",
    "print(type(y)) "
   ]
  },
  {
   "cell_type": "code",
   "execution_count": 5,
   "id": "c6986e84",
   "metadata": {},
   "outputs": [
    {
     "name": "stdout",
     "output_type": "stream",
     "text": [
      "enter:6\n",
      "enter:7\n",
      "enter:4\n",
      "enter:4\n",
      "[6 7 4 4]\n"
     ]
    }
   ],
   "source": [
    " l = []\n",
    "    \n",
    "for i in range(1,5):\n",
    "    int_1= int(input(\"enter:\"))\n",
    "    l.append(int_1)\n",
    "    \n",
    "print(np.array(l))"
   ]
  },
  {
   "cell_type": "code",
   "execution_count": 6,
   "id": "25d71142",
   "metadata": {},
   "outputs": [
    {
     "name": "stdout",
     "output_type": "stream",
     "text": [
      "[[1 2 3 4]\n",
      " [1 2 3 4]]\n",
      "2\n"
     ]
    }
   ],
   "source": [
    "ar2 = np.array([[1,2,3,4,],[1,2,3,4]])\n",
    "print(ar2)\n",
    "print(ar2.ndim)"
   ]
  },
  {
   "cell_type": "code",
   "execution_count": null,
   "id": "530eac98",
   "metadata": {},
   "outputs": [],
   "source": [
    "import numpy as np\n",
    "ar_zero=np.zeros(4)\n",
    "print(ar_zero)"
   ]
  },
  {
   "cell_type": "markdown",
   "id": "c76464e0",
   "metadata": {},
   "source": [
    "# "
   ]
  }
 ],
 "metadata": {
  "kernelspec": {
   "display_name": "Python 3 (ipykernel)",
   "language": "python",
   "name": "python3"
  },
  "language_info": {
   "codemirror_mode": {
    "name": "ipython",
    "version": 3
   },
   "file_extension": ".py",
   "mimetype": "text/x-python",
   "name": "python",
   "nbconvert_exporter": "python",
   "pygments_lexer": "ipython3",
   "version": "3.11.3"
  }
 },
 "nbformat": 4,
 "nbformat_minor": 5
}
