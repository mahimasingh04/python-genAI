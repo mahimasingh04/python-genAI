{
 "cells": [
  {
   "cell_type": "markdown",
   "id": "2f007bc0",
   "metadata": {},
   "source": [
    "# broadcasting"
   ]
  },
  {
   "cell_type": "code",
   "execution_count": 1,
   "id": "563678ff",
   "metadata": {},
   "outputs": [
    {
     "name": "stdout",
     "output_type": "stream",
     "text": [
      "[[2 3 4]\n",
      " [3 4 5]\n",
      " [5 6 7]]\n"
     ]
    }
   ],
   "source": [
    "import numpy as np\n",
    "var1 = np.array([1,2,3])\n",
    "var2 = np.array([[1],[2],[4]])\n",
    "print(var1 + var2)"
   ]
  },
  {
   "cell_type": "markdown",
   "id": "539507cf",
   "metadata": {},
   "source": [
    "\n",
    "var1 = np.array([[1],[3]])\n",
    "var2 = np.array([[1,4,5],[3,5,8]])\n",
    "print(var1 + var2)\n"
   ]
  }
 ],
 "metadata": {
  "kernelspec": {
   "display_name": "Python 3 (ipykernel)",
   "language": "python",
   "name": "python3"
  },
  "language_info": {
   "codemirror_mode": {
    "name": "ipython",
    "version": 3
   },
   "file_extension": ".py",
   "mimetype": "text/x-python",
   "name": "python",
   "nbconvert_exporter": "python",
   "pygments_lexer": "ipython3",
   "version": "3.11.3"
  }
 },
 "nbformat": 4,
 "nbformat_minor": 5
}
